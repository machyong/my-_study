{
  "nbformat": 4,
  "nbformat_minor": 0,
  "metadata": {
    "colab": {
      "provenance": []
    },
    "kernelspec": {
      "name": "python3",
      "display_name": "Python 3"
    },
    "language_info": {
      "name": "python"
    }
  },
  "cells": [
    {
      "cell_type": "markdown",
      "source": [
        "파이썬 변수\n",
        "- 정수형\n",
        "- 문자형\n",
        "- 실수형\n",
        "- 불리언"
      ],
      "metadata": {
        "id": "igtIFhUO4z04"
      }
    },
    {
      "cell_type": "markdown",
      "source": [
        "정수형"
      ],
      "metadata": {
        "id": "aR-GOHeo4yZP"
      }
    },
    {
      "cell_type": "code",
      "execution_count": 1,
      "metadata": {
        "colab": {
          "base_uri": "https://localhost:8080/"
        },
        "id": "_8clDe8R4fQ-",
        "outputId": "fde1d673-800d-418d-e7af-02fb868a8bcc"
      },
      "outputs": [
        {
          "output_type": "stream",
          "name": "stdout",
          "text": [
            "10\n"
          ]
        }
      ],
      "source": [
        "number = 10\n",
        "print(number)"
      ]
    },
    {
      "cell_type": "code",
      "source": [
        "year = 2023\n",
        "month = 6\n",
        "day = 19"
      ],
      "metadata": {
        "id": "qae_srSb4nBv"
      },
      "execution_count": 3,
      "outputs": []
    },
    {
      "cell_type": "code",
      "source": [
        "print(year, month, day)"
      ],
      "metadata": {
        "colab": {
          "base_uri": "https://localhost:8080/"
        },
        "id": "avWVmN2n4sV3",
        "outputId": "fc45c06e-d96b-4f28-ea63-dc1652930af9"
      },
      "execution_count": 4,
      "outputs": [
        {
          "output_type": "stream",
          "name": "stdout",
          "text": [
            "2023 6 19\n"
          ]
        }
      ]
    },
    {
      "cell_type": "markdown",
      "source": [
        "실수형"
      ],
      "metadata": {
        "id": "pJ19s0oX4u_y"
      }
    },
    {
      "cell_type": "code",
      "source": [
        "pi = 3.14\n",
        "print(pi)"
      ],
      "metadata": {
        "colab": {
          "base_uri": "https://localhost:8080/"
        },
        "id": "U4uLunfc4xHj",
        "outputId": "1d4038a6-d1a0-4881-8c51-55addfe888e8"
      },
      "execution_count": 6,
      "outputs": [
        {
          "output_type": "stream",
          "name": "stdout",
          "text": [
            "3.14\n"
          ]
        }
      ]
    },
    {
      "cell_type": "markdown",
      "source": [
        "사칙연산:이항연산\n",
        " - +\n",
        " - -\n",
        " - *\n",
        " - /"
      ],
      "metadata": {
        "id": "pc1HCXcA4-PF"
      }
    },
    {
      "cell_type": "code",
      "source": [
        "num1 = 5\n",
        "num2 = 2"
      ],
      "metadata": {
        "id": "ai9lVXUz47sm"
      },
      "execution_count": 7,
      "outputs": []
    },
    {
      "cell_type": "code",
      "source": [
        "num1=5;num2=2"
      ],
      "metadata": {
        "id": "VuZ2mc2n5LZO"
      },
      "execution_count": 8,
      "outputs": []
    },
    {
      "cell_type": "code",
      "source": [
        "num1,num2 = 5,2"
      ],
      "metadata": {
        "id": "YRa26b9f5P-o"
      },
      "execution_count": 9,
      "outputs": []
    },
    {
      "cell_type": "code",
      "source": [
        "sum( [1,20,22,15,14,1,4,5,1,4,1] )"
      ],
      "metadata": {
        "colab": {
          "base_uri": "https://localhost:8080/"
        },
        "id": "sxVIAF2x5RpY",
        "outputId": "cf1a1305-538b-441d-c9f5-8c4733325e11"
      },
      "execution_count": 10,
      "outputs": [
        {
          "output_type": "execute_result",
          "data": {
            "text/plain": [
              "88"
            ]
          },
          "metadata": {},
          "execution_count": 10
        }
      ]
    },
    {
      "cell_type": "code",
      "source": [
        "hap = num1 + num2\n",
        "print(hap)"
      ],
      "metadata": {
        "colab": {
          "base_uri": "https://localhost:8080/"
        },
        "id": "BBiypDwg5VCe",
        "outputId": "8fd7e616-44bd-48f2-aaf4-e95f621ed759"
      },
      "execution_count": 11,
      "outputs": [
        {
          "output_type": "stream",
          "name": "stdout",
          "text": [
            "7\n"
          ]
        }
      ]
    },
    {
      "cell_type": "code",
      "source": [
        "print(num1-num2)"
      ],
      "metadata": {
        "colab": {
          "base_uri": "https://localhost:8080/"
        },
        "id": "n0iMV2j55Y5C",
        "outputId": "96f0b69e-78ae-4505-a12c-4b1025343836"
      },
      "execution_count": 12,
      "outputs": [
        {
          "output_type": "stream",
          "name": "stdout",
          "text": [
            "3\n"
          ]
        }
      ]
    },
    {
      "cell_type": "code",
      "source": [
        "print(num1*num2)"
      ],
      "metadata": {
        "colab": {
          "base_uri": "https://localhost:8080/"
        },
        "id": "49Hdn6U_5ek_",
        "outputId": "a5c99c6c-ab01-43de-82eb-59280dd179a7"
      },
      "execution_count": 13,
      "outputs": [
        {
          "output_type": "stream",
          "name": "stdout",
          "text": [
            "10\n"
          ]
        }
      ]
    },
    {
      "cell_type": "code",
      "source": [
        "print(num1/num2)"
      ],
      "metadata": {
        "colab": {
          "base_uri": "https://localhost:8080/"
        },
        "id": "z_mbv6xW5gCw",
        "outputId": "0ad23f28-64e4-41b4-879e-923a7a9e7a04"
      },
      "execution_count": 14,
      "outputs": [
        {
          "output_type": "stream",
          "name": "stdout",
          "text": [
            "2.5\n"
          ]
        }
      ]
    },
    {
      "cell_type": "code",
      "source": [
        "num2**3"
      ],
      "metadata": {
        "colab": {
          "base_uri": "https://localhost:8080/"
        },
        "id": "A09i_zaX5hS_",
        "outputId": "66b0955b-7e2e-4641-9614-6044cd735960"
      },
      "execution_count": 15,
      "outputs": [
        {
          "output_type": "execute_result",
          "data": {
            "text/plain": [
              "8"
            ]
          },
          "metadata": {},
          "execution_count": 15
        }
      ]
    },
    {
      "cell_type": "code",
      "source": [
        "# num1과 num2를 나누기하여 몫과 나머지를 각각 구해봅시다.\n",
        "# 몫\n",
        "print(num1//num2)\n",
        "# 나머지\n",
        "print(num1%num2)"
      ],
      "metadata": {
        "colab": {
          "base_uri": "https://localhost:8080/"
        },
        "id": "LDyTnaAY5ign",
        "outputId": "afc34e71-fb61-4bd0-ab8f-11d4ed90d6c2"
      },
      "execution_count": 16,
      "outputs": [
        {
          "output_type": "stream",
          "name": "stdout",
          "text": [
            "2\n",
            "1\n"
          ]
        }
      ]
    },
    {
      "cell_type": "markdown",
      "source": [
        "문자열\n",
        "  - 문자들의 집합\n",
        "  - 문자: character의 약자인 char\n",
        "  - 문자열:string"
      ],
      "metadata": {
        "id": "aG8wkH995xhK"
      }
    },
    {
      "cell_type": "code",
      "source": [
        "\"안녕하세요 'python'\""
      ],
      "metadata": {
        "colab": {
          "base_uri": "https://localhost:8080/",
          "height": 36
        },
        "id": "W3jwkWZy66K5",
        "outputId": "a1582e80-20b6-49b4-8128-9a08d26f86e1"
      },
      "execution_count": 19,
      "outputs": [
        {
          "output_type": "execute_result",
          "data": {
            "text/plain": [
              "\"안녕하세요 'python'\""
            ],
            "application/vnd.google.colaboratory.intrinsic+json": {
              "type": "string"
            }
          },
          "metadata": {},
          "execution_count": 19
        }
      ]
    },
    {
      "cell_type": "code",
      "source": [
        "'안녕하세요 \"python\"'"
      ],
      "metadata": {
        "colab": {
          "base_uri": "https://localhost:8080/",
          "height": 36
        },
        "id": "SVgUomOt6-P2",
        "outputId": "dbc05cdb-e0c0-400d-b2ca-745cb4384e18"
      },
      "execution_count": 20,
      "outputs": [
        {
          "output_type": "execute_result",
          "data": {
            "text/plain": [
              "'안녕하세요 \"python\"'"
            ],
            "application/vnd.google.colaboratory.intrinsic+json": {
              "type": "string"
            }
          },
          "metadata": {},
          "execution_count": 20
        }
      ]
    },
    {
      "cell_type": "markdown",
      "source": [
        "사용자로부터 입력받기"
      ],
      "metadata": {
        "id": "Xp6zNm4U7HNw"
      }
    },
    {
      "cell_type": "code",
      "source": [
        "age = input(\"나이를 입력하세요: \")"
      ],
      "metadata": {
        "colab": {
          "base_uri": "https://localhost:8080/"
        },
        "id": "RF8zfNfa7KZt",
        "outputId": "f44e5f00-7c39-4465-d090-8b5333cd7067"
      },
      "execution_count": 21,
      "outputs": [
        {
          "name": "stdout",
          "output_type": "stream",
          "text": [
            "나이를 입력하세요: 25\n"
          ]
        }
      ]
    },
    {
      "cell_type": "code",
      "source": [
        "age"
      ],
      "metadata": {
        "colab": {
          "base_uri": "https://localhost:8080/",
          "height": 36
        },
        "id": "0N44qQnA7NpS",
        "outputId": "54639bd5-5a93-49d8-be27-7f5e71a30f8e"
      },
      "execution_count": 22,
      "outputs": [
        {
          "output_type": "execute_result",
          "data": {
            "text/plain": [
              "'25'"
            ],
            "application/vnd.google.colaboratory.intrinsic+json": {
              "type": "string"
            }
          },
          "metadata": {},
          "execution_count": 22
        }
      ]
    },
    {
      "cell_type": "code",
      "source": [
        "'a'+'b'"
      ],
      "metadata": {
        "colab": {
          "base_uri": "https://localhost:8080/",
          "height": 36
        },
        "id": "X2c1rgSS7Pao",
        "outputId": "8ffd7381-dff3-4115-ee31-c5c8170f0881"
      },
      "execution_count": 23,
      "outputs": [
        {
          "output_type": "execute_result",
          "data": {
            "text/plain": [
              "'ab'"
            ],
            "application/vnd.google.colaboratory.intrinsic+json": {
              "type": "string"
            }
          },
          "metadata": {},
          "execution_count": 23
        }
      ]
    },
    {
      "cell_type": "code",
      "source": [
        "'a'*2"
      ],
      "metadata": {
        "colab": {
          "base_uri": "https://localhost:8080/",
          "height": 36
        },
        "id": "fbN6VVXU7SVs",
        "outputId": "7cb710ab-4df6-4e37-ab9e-f02748981b66"
      },
      "execution_count": 24,
      "outputs": [
        {
          "output_type": "execute_result",
          "data": {
            "text/plain": [
              "'aa'"
            ],
            "application/vnd.google.colaboratory.intrinsic+json": {
              "type": "string"
            }
          },
          "metadata": {},
          "execution_count": 24
        }
      ]
    },
    {
      "cell_type": "code",
      "source": [
        "'abc'*2"
      ],
      "metadata": {
        "colab": {
          "base_uri": "https://localhost:8080/",
          "height": 36
        },
        "id": "ENAocEty7Tr3",
        "outputId": "e8f5a34a-e784-465e-9e76-860b044bd86b"
      },
      "execution_count": 26,
      "outputs": [
        {
          "output_type": "execute_result",
          "data": {
            "text/plain": [
              "'abcabc'"
            ],
            "application/vnd.google.colaboratory.intrinsic+json": {
              "type": "string"
            }
          },
          "metadata": {},
          "execution_count": 26
        }
      ]
    },
    {
      "cell_type": "code",
      "source": [
        "age = input(\"숫자를 입력하세요 : \")\n",
        "age= int(age)\n",
        "age"
      ],
      "metadata": {
        "colab": {
          "base_uri": "https://localhost:8080/"
        },
        "id": "M9cGR7fy7Uul",
        "outputId": "f7c5cad7-5dc6-4cb0-a26b-4ec501c7b5dd"
      },
      "execution_count": 27,
      "outputs": [
        {
          "name": "stdout",
          "output_type": "stream",
          "text": [
            "숫자를 입력하세요 : 25\n"
          ]
        },
        {
          "output_type": "execute_result",
          "data": {
            "text/plain": [
              "25"
            ]
          },
          "metadata": {},
          "execution_count": 27
        }
      ]
    },
    {
      "cell_type": "code",
      "source": [
        "number1 = int(input('첫번째 숫자를 입력하세요: '))\n",
        "number2 = int(input('두번째 숫자를 입력하세요: '))"
      ],
      "metadata": {
        "colab": {
          "base_uri": "https://localhost:8080/"
        },
        "id": "PZ5jDQFO7cH2",
        "outputId": "6c09820b-7148-4103-e150-8736b6d50d96"
      },
      "execution_count": 28,
      "outputs": [
        {
          "name": "stdout",
          "output_type": "stream",
          "text": [
            "첫번째 숫자를 입력하세요: 5\n",
            "두번째 숫자를 입력하세요: 2\n"
          ]
        }
      ]
    },
    {
      "cell_type": "code",
      "source": [
        "print( number1 + number2 ) # +\n",
        "print( number1 - number2 ) # -\n",
        "print( number1 * number2) # *\n",
        "print( number1 / number2) # /\n",
        "print( number1 // number2) # //\n",
        "print( number1 % number2) # %"
      ],
      "metadata": {
        "colab": {
          "base_uri": "https://localhost:8080/"
        },
        "id": "wURLxE1A7m5R",
        "outputId": "6e83f3f8-48d3-4e08-e965-470959ba46d9"
      },
      "execution_count": 29,
      "outputs": [
        {
          "output_type": "stream",
          "name": "stdout",
          "text": [
            "7\n",
            "3\n",
            "10\n",
            "2.5\n",
            "2\n",
            "1\n"
          ]
        }
      ]
    },
    {
      "cell_type": "markdown",
      "source": [
        "불린형"
      ],
      "metadata": {
        "id": "Pjdsp7uz7q1y"
      }
    },
    {
      "cell_type": "code",
      "source": [
        "isSuccess = True\n",
        "isSuccess"
      ],
      "metadata": {
        "colab": {
          "base_uri": "https://localhost:8080/"
        },
        "id": "qEK4obBw7vRO",
        "outputId": "8e484e0a-b146-47e8-caf7-1a87846b1683"
      },
      "execution_count": 31,
      "outputs": [
        {
          "output_type": "execute_result",
          "data": {
            "text/plain": [
              "True"
            ]
          },
          "metadata": {},
          "execution_count": 31
        }
      ]
    },
    {
      "cell_type": "code",
      "source": [
        "isSuccess = False\n",
        "isSuccess"
      ],
      "metadata": {
        "colab": {
          "base_uri": "https://localhost:8080/"
        },
        "id": "xW6DQw3J7xfy",
        "outputId": "8e30e3c5-6766-40ba-c774-b707470030a8"
      },
      "execution_count": 32,
      "outputs": [
        {
          "output_type": "execute_result",
          "data": {
            "text/plain": [
              "False"
            ]
          },
          "metadata": {},
          "execution_count": 32
        }
      ]
    },
    {
      "cell_type": "markdown",
      "source": [
        "naming\n",
        "- 변수는 여러단어가 결합된 형태일때는 _를 붙인다.\n",
        "- 소문자\n",
        "- 숫자 및 특수기호로 시작할 수 없다.(단 _ 예외)\n"
      ],
      "metadata": {
        "id": "hvA3ygcB74D2"
      }
    },
    {
      "cell_type": "code",
      "source": [
        "_number = 10\n",
        "number=20"
      ],
      "metadata": {
        "id": "OWGqvJ5m8F1F"
      },
      "execution_count": 33,
      "outputs": []
    },
    {
      "cell_type": "code",
      "source": [
        "_number, number"
      ],
      "metadata": {
        "colab": {
          "base_uri": "https://localhost:8080/"
        },
        "id": "fnv7gHcD8LdV",
        "outputId": "cca19341-35e4-462e-83ab-8beca5d17be3"
      },
      "execution_count": 35,
      "outputs": [
        {
          "output_type": "execute_result",
          "data": {
            "text/plain": [
              "(10, 20)"
            ]
          },
          "metadata": {},
          "execution_count": 35
        }
      ]
    }
  ]
}